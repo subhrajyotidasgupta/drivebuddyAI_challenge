{
  "nbformat": 4,
  "nbformat_minor": 0,
  "metadata": {
    "colab": {
      "name": "pav_bhaji.ipynb",
      "provenance": [],
      "collapsed_sections": []
    },
    "kernelspec": {
      "name": "python3",
      "display_name": "Python 3"
    },
    "accelerator": "GPU"
  },
  "cells": [
    {
      "cell_type": "markdown",
      "metadata": {
        "id": "N-qtIi_5MvOg",
        "colab_type": "text"
      },
      "source": [
        "###Importing modules"
      ]
    },
    {
      "cell_type": "code",
      "metadata": {
        "id": "dvs3JmgkQig8",
        "colab_type": "code",
        "colab": {
          "base_uri": "https://localhost:8080/",
          "height": 62
        },
        "outputId": "10f5e5d4-f5d1-4d16-d5c1-53d8faf412f4"
      },
      "source": [
        "import cv2\n",
        "from tensorflow.keras.preprocessing.image import ImageDataGenerator\n",
        "from tensorflow.keras.models import Sequential\n",
        "from tensorflow.keras.layers import Conv2D, MaxPooling2D, Flatten, Dense, Dropout, BatchNormalization, GlobalAveragePooling2D\n",
        "from tensorflow.keras.applications.resnet50 import ResNet50\n",
        "from tensorflow.keras.applications.vgg16 import VGG16\n",
        "from tensorflow.keras.applications.mobilenet import MobileNet\n",
        "from tensorflow.keras.applications.vgg16 import preprocess_input\n",
        "from tensorflow.keras.optimizers import Adam\n",
        "from tensorflow.keras.models import Model\n",
        "from tensorflow.keras.layers import Dense\n",
        "from tensorflow.keras.layers import Flatten\n",
        "import numpy as np\n",
        "import matplotlib.pyplot as plt\n",
        "from tensorflow.keras.callbacks import EarlyStopping, ReduceLROnPlateau\n",
        "import os\n"
      ],
      "execution_count": 2,
      "outputs": [
        {
          "output_type": "display_data",
          "data": {
            "text/html": [
              "<p style=\"color: red;\">\n",
              "The default version of TensorFlow in Colab will soon switch to TensorFlow 2.x.<br>\n",
              "We recommend you <a href=\"https://www.tensorflow.org/guide/migrate\" target=\"_blank\">upgrade</a> now \n",
              "or ensure your notebook will continue to use TensorFlow 1.x via the <code>%tensorflow_version 1.x</code> magic:\n",
              "<a href=\"https://colab.research.google.com/notebooks/tensorflow_version.ipynb\" target=\"_blank\">more info</a>.</p>\n"
            ],
            "text/plain": [
              "<IPython.core.display.HTML object>"
            ]
          },
          "metadata": {
            "tags": []
          }
        }
      ]
    },
    {
      "cell_type": "markdown",
      "metadata": {
        "id": "zhBpN917M3Lp",
        "colab_type": "text"
      },
      "source": [
        "###Path for the dataset"
      ]
    },
    {
      "cell_type": "code",
      "metadata": {
        "id": "GZ6fJGJHXlHL",
        "colab_type": "code",
        "colab": {}
      },
      "source": [
        "path = '/content/drive/My Drive/dataset/'"
      ],
      "execution_count": 0,
      "outputs": []
    },
    {
      "cell_type": "markdown",
      "metadata": {
        "id": "9pH6ZoeTM6q4",
        "colab_type": "text"
      },
      "source": [
        "###Using ImageDataGenerator to augment images"
      ]
    },
    {
      "cell_type": "code",
      "metadata": {
        "id": "dgsmDy8eXplk",
        "colab_type": "code",
        "colab": {}
      },
      "source": [
        "datagen = ImageDataGenerator(rotation_range=20, zoom_range=0.15,\n",
        "\twidth_shift_range=0.2, height_shift_range=0.2, shear_range=0.15,\n",
        "\thorizontal_flip=True, fill_mode=\"nearest\", preprocessing_function=preprocess_input)"
      ],
      "execution_count": 0,
      "outputs": []
    },
    {
      "cell_type": "code",
      "metadata": {
        "id": "COY2465uh5W6",
        "colab_type": "code",
        "outputId": "5d1ff6ee-367c-45d5-f94e-ca370736ac0e",
        "colab": {
          "base_uri": "https://localhost:8080/",
          "height": 34
        }
      },
      "source": [
        "train_generator = datagen.flow_from_directory(path + 'train',\n",
        "                                              batch_size = 8,\n",
        "                                              class_mode = 'categorical')"
      ],
      "execution_count": 5,
      "outputs": [
        {
          "output_type": "stream",
          "text": [
            "Found 432 images belonging to 2 classes.\n"
          ],
          "name": "stdout"
        }
      ]
    },
    {
      "cell_type": "markdown",
      "metadata": {
        "id": "CVr3YlCaNFCM",
        "colab_type": "text"
      },
      "source": [
        "Example of one of the samples preprocessed as in VGG16 network."
      ]
    },
    {
      "cell_type": "code",
      "metadata": {
        "id": "xoUKD404vQgw",
        "colab_type": "code",
        "outputId": "815b54f0-9e31-4ec5-bff5-400d6eba7f39",
        "colab": {
          "base_uri": "https://localhost:8080/",
          "height": 302
        }
      },
      "source": [
        "plt.imshow(train_generator[50][0][0])"
      ],
      "execution_count": 6,
      "outputs": [
        {
          "output_type": "stream",
          "text": [
            "Clipping input data to the valid range for imshow with RGB data ([0..1] for floats or [0..255] for integers).\n"
          ],
          "name": "stderr"
        },
        {
          "output_type": "execute_result",
          "data": {
            "text/plain": [
              "<matplotlib.image.AxesImage at 0x7fe2e5c83b00>"
            ]
          },
          "metadata": {
            "tags": []
          },
          "execution_count": 6
        },
        {
          "output_type": "display_data",
          "data": {
            "image/png": "[encoded data removed]",
            "text/plain": [
              "<Figure size 432x288 with 1 Axes>"
            ]
          },
          "metadata": {
            "tags": []
          }
        }
      ]
    },
    {
      "cell_type": "markdown",
      "metadata": {
        "id": "LsrQnpT1NTra",
        "colab_type": "text"
      },
      "source": [
        "###Model architecture\n",
        "The reason for choosing VGG16 is quite simple and justifiable. The VGG16 network is a deep network that was trained on ImageNet and can serve as a good feature extractor. I wanted to balance the trade-off between a heavy and an efficient model. With VGG16, both these parameters are satisfied. The weights are kept unchanged and only the last fully connected layers are newly trained on the given dataset. This ensures that VGG16 gives the most accurate feature extraction."
      ]
    },
    {
      "cell_type": "code",
      "metadata": {
        "id": "pZagBeIai86c",
        "colab_type": "code",
        "outputId": "b9b39ea2-a5eb-41a7-8a9c-fada1a65a990",
        "colab": {
          "base_uri": "https://localhost:8080/",
          "height": 994
        }
      },
      "source": [
        "# load model without classifier layers\n",
        "model = VGG16(include_top=False)\n",
        "for layer in model.layers:\n",
        "\tlayer.trainable = False\n",
        "# add new classifier layers\n",
        "flat1 = GlobalAveragePooling2D()(model.output)\n",
        "class1 = Dense(256, activation='tanh')(flat1)\n",
        "#class2 = Dense(256, activation='tanh')(class1)\n",
        "output = Dense(2, activation='softmax')(class1)\n",
        "# define new model\n",
        "model = Model(inputs=model.inputs, outputs=output)\n",
        "model.compile(loss='binary_crossentropy', optimizer=Adam(lr=0.0002), metrics=['accuracy'])\n",
        "# summarize\n",
        "model.summary()\n",
        "# ..."
      ],
      "execution_count": 7,
      "outputs": [
        {
          "output_type": "stream",
          "text": [
            "WARNING:tensorflow:From /usr/local/lib/python3.6/dist-packages/tensorflow_core/python/ops/resource_variable_ops.py:1630: calling BaseResourceVariable.__init__ (from tensorflow.python.ops.resource_variable_ops) with constraint is deprecated and will be removed in a future version.\n",
            "Instructions for updating:\n",
            "If using Keras pass *_constraint arguments to layers.\n",
            "Downloading data from https://github.com/fchollet/deep-learning-models/releases/download/v0.1/vgg16_weights_tf_dim_ordering_tf_kernels_notop.h5\n",
            "58892288/58889256 [==============================] - 2s 0us/step\n",
            "Model: \"model\"\n",
            "_________________________________________________________________\n",
            "Layer (type)                 Output Shape              Param #   \n",
            "=================================================================\n",
            "input_1 (InputLayer)         [(None, None, None, 3)]   0         \n",
            "_________________________________________________________________\n",
            "block1_conv1 (Conv2D)        (None, None, None, 64)    1792      \n",
            "_________________________________________________________________\n",
            "block1_conv2 (Conv2D)        (None, None, None, 64)    36928     \n",
            "_________________________________________________________________\n",
            "block1_pool (MaxPooling2D)   (None, None, None, 64)    0         \n",
            "_________________________________________________________________\n",
            "block2_conv1 (Conv2D)        (None, None, None, 128)   73856     \n",
            "_________________________________________________________________\n",
            "block2_conv2 (Conv2D)        (None, None, None, 128)   147584    \n",
            "_________________________________________________________________\n",
            "block2_pool (MaxPooling2D)   (None, None, None, 128)   0         \n",
            "_________________________________________________________________\n",
            "block3_conv1 (Conv2D)        (None, None, None, 256)   295168    \n",
            "_________________________________________________________________\n",
            "block3_conv2 (Conv2D)        (None, None, None, 256)   590080    \n",
            "_________________________________________________________________\n",
            "block3_conv3 (Conv2D)        (None, None, None, 256)   590080    \n",
            "_________________________________________________________________\n",
            "block3_pool (MaxPooling2D)   (None, None, None, 256)   0         \n",
            "_________________________________________________________________\n",
            "block4_conv1 (Conv2D)        (None, None, None, 512)   1180160   \n",
            "_________________________________________________________________\n",
            "block4_conv2 (Conv2D)        (None, None, None, 512)   2359808   \n",
            "_________________________________________________________________\n",
            "block4_conv3 (Conv2D)        (None, None, None, 512)   2359808   \n",
            "_________________________________________________________________\n",
            "block4_pool (MaxPooling2D)   (None, None, None, 512)   0         \n",
            "_________________________________________________________________\n",
            "block5_conv1 (Conv2D)        (None, None, None, 512)   2359808   \n",
            "_________________________________________________________________\n",
            "block5_conv2 (Conv2D)        (None, None, None, 512)   2359808   \n",
            "_________________________________________________________________\n",
            "block5_conv3 (Conv2D)        (None, None, None, 512)   2359808   \n",
            "_________________________________________________________________\n",
            "block5_pool (MaxPooling2D)   (None, None, None, 512)   0         \n",
            "_________________________________________________________________\n",
            "global_average_pooling2d (Gl (None, 512)               0         \n",
            "_________________________________________________________________\n",
            "dense (Dense)                (None, 256)               131328    \n",
            "_________________________________________________________________\n",
            "dense_1 (Dense)              (None, 2)                 514       \n",
            "=================================================================\n",
            "Total params: 14,846,530\n",
            "Trainable params: 131,842\n",
            "Non-trainable params: 14,714,688\n",
            "_________________________________________________________________\n"
          ],
          "name": "stdout"
        }
      ]
    },
    {
      "cell_type": "markdown",
      "metadata": {
        "id": "CwpzTK_SN-sG",
        "colab_type": "text"
      },
      "source": [
        "###Training the last few layers of the model."
      ]
    },
    {
      "cell_type": "code",
      "metadata": {
        "id": "ehvZvP5_lrnh",
        "colab_type": "code",
        "outputId": "316b1662-08cf-4d66-fa9f-7ce86890dbb0",
        "colab": {
          "base_uri": "https://localhost:8080/",
          "height": 423
        }
      },
      "source": [
        "steps = train_generator.n//train_generator.batch_size\n",
        "hist = model.fit_generator(train_generator, steps_per_epoch=steps, epochs=10)"
      ],
      "execution_count": 8,
      "outputs": [
        {
          "output_type": "stream",
          "text": [
            "Epoch 1/10\n",
            "WARNING:tensorflow:From /usr/local/lib/python3.6/dist-packages/tensorflow_core/python/ops/math_grad.py:1424: where (from tensorflow.python.ops.array_ops) is deprecated and will be removed in a future version.\n",
            "Instructions for updating:\n",
            "Use tf.where in 2.0, which has the same broadcast rule as np.where\n",
            "54/54 [==============================] - 314s 6s/step - loss: 0.6534 - acc: 0.6528\n",
            "Epoch 2/10\n",
            "54/54 [==============================] - 301s 6s/step - loss: 0.4867 - acc: 0.7593\n",
            "Epoch 3/10\n",
            "54/54 [==============================] - 298s 6s/step - loss: 0.3943 - acc: 0.8403\n",
            "Epoch 4/10\n",
            "54/54 [==============================] - 299s 6s/step - loss: 0.3502 - acc: 0.8472\n",
            "Epoch 5/10\n",
            "54/54 [==============================] - 300s 6s/step - loss: 0.3299 - acc: 0.8519\n",
            "Epoch 6/10\n",
            "54/54 [==============================] - 300s 6s/step - loss: 0.3136 - acc: 0.8681\n",
            "Epoch 7/10\n",
            "54/54 [==============================] - 299s 6s/step - loss: 0.2973 - acc: 0.8727\n",
            "Epoch 8/10\n",
            "54/54 [==============================] - 300s 6s/step - loss: 0.2646 - acc: 0.9074\n",
            "Epoch 9/10\n",
            "54/54 [==============================] - 300s 6s/step - loss: 0.2578 - acc: 0.9120\n",
            "Epoch 10/10\n",
            "54/54 [==============================] - 301s 6s/step - loss: 0.2396 - acc: 0.9074\n"
          ],
          "name": "stdout"
        }
      ]
    },
    {
      "cell_type": "markdown",
      "metadata": {
        "id": "8Xo5B3NxOYcN",
        "colab_type": "text"
      },
      "source": [
        "###Accuracy vs Loss plot"
      ]
    },
    {
      "cell_type": "code",
      "metadata": {
        "id": "1L6rymGK-KgF",
        "colab_type": "code",
        "outputId": "29f12c65-b874-431d-abfa-7576b4c27bb5",
        "colab": {
          "base_uri": "https://localhost:8080/",
          "height": 265
        }
      },
      "source": [
        "plt.plot(hist.history['loss'])\n",
        "plt.plot(hist.history['acc'])\n",
        "plt.show()"
      ],
      "execution_count": 0,
      "outputs": [
        {
          "output_type": "display_data",
          "data": {
            "image/png": "[encoded data removed]",
            "text/plain": [
              "<Figure size 432x288 with 1 Axes>"
            ]
          },
          "metadata": {
            "tags": []
          }
        }
      ]
    },
    {
      "cell_type": "markdown",
      "metadata": {
        "id": "dsbLp3-2O3_a",
        "colab_type": "text"
      },
      "source": [
        "###Testing on a seggregated dataset.\n",
        "Some of the images of the given dataset was kept aside for testing. The testing set contains an equal number of samples for both positive and negative cases."
      ]
    },
    {
      "cell_type": "code",
      "metadata": {
        "id": "h4JvIDoyPyGj",
        "colab_type": "code",
        "outputId": "7e897b1c-e8ce-4895-b6a1-faff18c67f65",
        "colab": {
          "base_uri": "https://localhost:8080/",
          "height": 34
        }
      },
      "source": [
        "test_datagen = ImageDataGenerator(preprocessing_function=preprocess_input)\n",
        "test_generator = test_datagen.flow_from_directory('drive/My Drive/dataset/test',\n",
        "                                                 batch_size = 1,\n",
        "                                                 class_mode = 'categorical')"
      ],
      "execution_count": 0,
      "outputs": [
        {
          "output_type": "stream",
          "text": [
            "Found 20 images belonging to 2 classes.\n"
          ],
          "name": "stdout"
        }
      ]
    },
    {
      "cell_type": "markdown",
      "metadata": {
        "id": "n3BxDVN6PRSt",
        "colab_type": "text"
      },
      "source": [
        "###Accuracy score\n",
        "An accuracy of >85% was achieved after using Transfer Learning."
      ]
    },
    {
      "cell_type": "code",
      "metadata": {
        "id": "x6wOPUef15Iy",
        "colab_type": "code",
        "outputId": "afe4cf5c-6bae-443d-bdc1-ed541bb813ce",
        "colab": {
          "base_uri": "https://localhost:8080/",
          "height": 34
        }
      },
      "source": [
        "print(\"Accuracy: \", model.evaluate_generator(test_generator)[1]*100, '%')"
      ],
      "execution_count": 0,
      "outputs": [
        {
          "output_type": "stream",
          "text": [
            "Accuracy:  85.00000238418579 %\n"
          ],
          "name": "stdout"
        }
      ]
    }
  ]
}